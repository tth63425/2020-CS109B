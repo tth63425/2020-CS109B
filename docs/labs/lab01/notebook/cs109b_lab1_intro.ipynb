{
 "cells": [
  {
   "cell_type": "markdown",
   "metadata": {},
   "source": [
    "# <img style=\"float: left; padding-right: 10px; width: 45px\" src=\"https://raw.githubusercontent.com/Harvard-IACS/2018-CS109A/master/content/styles/iacs.png\"> CS109B Data Science 2: Advanced Topics in Data Science \n",
    "## Lab 1 - Introduction and Setup\n",
    "\n",
    "**Harvard University**<br>\n",
    "**Spring 2020**<br>\n",
    "**Instructors:** Mark Glickman, Pavlos Protopapas, and Chris Tanner<br>\n",
    "**Lab Instructors:** Chris Tanner and Eleni Kaxiras<br>\n",
    "**Contributors:** Will Claybaugh, and Eleni Kaxiras\n",
    "\n",
    "---"
   ]
  },
  {
   "cell_type": "code",
   "execution_count": null,
   "metadata": {},
   "outputs": [],
   "source": [
    "## RUN THIS CELL TO PROPERLY HIGHLIGHT THE EXERCISES\n",
    "import requests\n",
    "from IPython.core.display import HTML\n",
    "styles = requests.get(\"https://raw.githubusercontent.com/Harvard-IACS/2019-CS109B/master/content/styles/cs109.css\").text\n",
    "HTML(styles)"
   ]
  },
  {
   "cell_type": "code",
   "execution_count": null,
   "metadata": {},
   "outputs": [],
   "source": [
    "import numpy as np\n",
    "#import pandas as pd\n",
    "import matplotlib.pyplot as plt\n",
    "\n",
    "%matplotlib inline "
   ]
  },
  {
   "cell_type": "markdown",
   "metadata": {},
   "source": [
    "## Learning Goals\n",
    "\n",
    "The purpose of this lab is to get you up to speed with what you will need to run the code for CS109b."
   ]
  },
  {
   "cell_type": "markdown",
   "metadata": {},
   "source": [
    "## Managing Local Resources\n",
    "\n",
    "\n",
    "### Forking the class repo\n",
    "\n",
    "To get access to the code used in class you will need to clone the class repo: [https://github.com/Harvard-IACS/2020-CS109B](https://github.com/Harvard-IACS/2020-CS109B)\n",
    "\n",
    "In order not to lose any changes you have made when updating the content (pulling) from the main repo, a good practice is to `fork` the repo locally. For more on this see Maddy Nakada's notes: [How to Fork a Repo](ForkRepo.pdf)\n",
    "\n",
    "You will need this year's repo: `https://github.com/Harvard-IACS/2020-CS109B.git`\n",
    "\n",
    "### Cloning the class repo and then copying the contents in a different directory so you can make changes.\n",
    "\n",
    "* Open the Terminal in your computer and go to the Directory where you want to clone the repo. Then run \n",
    "\n",
    "`git clone https://github.com/Harvard-IACS/2020-CS109B.git`\n",
    "\n",
    "* If you have already cloned the repo, go inside the '/2020-CS109B/' directory and run \n",
    "\n",
    "`git pull`\n",
    "\n",
    "* If you change the notebooks and then run `git pull` your changes will be overwritten. So create a `playground` folder and copy the folder with the notebook with which you want to work there."
   ]
  },
  {
   "cell_type": "markdown",
   "metadata": {},
   "source": [
    "### Setting up your Local Environment (supported by cs109b)\n",
    "\n",
    "#### Use Virtual Environments: I cannot stress this enough!\n",
    "\n",
    "Isolating your projects inside specific environments helps you manage dependencies and therefore keep your sanity. You can recover from mess-ups by simply deleting an environment. Sometimes certain installation of libraries conflict with one another. \n",
    "\n",
    "In order of isolation here is what you can do: a) set up a virtual environment, b) set up a virtual \n",
    "The two most popular tools for setting up environments are:\n",
    "\n",
    "- `conda` (a package and environment manager)\n",
    "- `pip` (a Python package manager) with `virtualenv` (a tool for creating environments)\n",
    "\n",
    "We recommend using `conda` package installation and environments. `conda` installs packages from the Anaconda Repository and Anaconda Cloud, whereas `pip` installs packages from PyPI. Even if you are using `conda` as your primary package installer and are inside a `conda` environment, you can still use `pip install` for those rare packages that are not included in the `conda` ecosystem. \n",
    "\n",
    "``` \n",
    "$ cd https://github.com/Harvard-IACS/2020-CS109B/####### REMAINING PATH TBD #######\n",
    "$ conda env create -f cs109b.yml\n",
    "$ conda activate cs109b\n",
    "```\n",
    "\n",
    "See here for more details on how to manage [Conda Environments](https://docs.conda.io/projects/conda/en/latest/user-guide/tasks/manage-environments.html)."
   ]
  },
  {
   "cell_type": "markdown",
   "metadata": {},
   "source": [
    "<div class='exercise'> <b> Exercise 1:  Use the cs109b.yml file to create an environment.</div>\n",
    "    \n",
    "We have included the packages that you will need in the `cs109b.yml` file. It should be in the same directory as this notebook. "
   ]
  },
  {
   "cell_type": "markdown",
   "metadata": {},
   "source": [
    "<div class='exercise'> <b> Exercise 2:  Clone of Fork the CS109b git repository.</div>"
   ]
  },
  {
   "cell_type": "markdown",
   "metadata": {},
   "source": [
    "## Using Cloud Resources (optional)"
   ]
  },
  {
   "cell_type": "markdown",
   "metadata": {},
   "source": [
    "### Using SEAS JupyterHub (supported by cs109b)\n",
    "\n",
    "[Instructions for Using SEAS JupyterHub](https://canvas.harvard.edu/courses/65462/pages/instructions-for-using-seas-jupyterhub)\n",
    "\n",
    "SEAS and FAS are providing you with a platform in AWS to use for the class, accessible via the 'JupyterHub' menu link in Canvas. Between now and March 1, each student will have their own t2.medium AWS ec2 instance with 4GB CPU RAM, and 2 vCPUs.  After March 1st the instances will be upgraded to p2.xlarge AWS ec2 instances with a GPU, 61GB CPU RAM, 12GB GPU RAM, 10gB disk space, and 4 vCPUs.\n",
    "\n",
    "Most of the libraries such as keras, tensorflow, pandas, etc. are pre-installed. If a library is missing you may install it via the Terminal.\n",
    "\n",
    "**NOTE : The AWS platform is funded by SEAS and FAS for the purposes of the class. It is not running against your individual credit. You are to use it with prudence; also it is not allowed to use it for purposes not related to this course.**\n",
    "\n",
    "**Help us keep this service: Make sure you stop your instance as soon as you do not need it.**"
   ]
  },
  {
   "cell_type": "markdown",
   "metadata": {},
   "source": [
    "### Using Google Colab (on your own)\n",
    "\n",
    "Google's Colab platform [https://colab.research.google.com/](https://colab.research.google.com/) offers a GPU enviromnent to test your ideas, it's fast, free, with the only caveat that your files persist only for 12 hours. The solution is to keep your files in a repository and just clone it each time you use Colab.  "
   ]
  },
  {
   "cell_type": "markdown",
   "metadata": {},
   "source": [
    "### Using AWS in the Cloud (on your own)\n",
    "\n",
    "For those of you who want to have your own machines in the Cloud to run whatever you want, Amazon Web Services is a (paid) solution. For more see: [https://docs.aws.amazon.com/polly/latest/dg/setting-up.html](https://docs.aws.amazon.com/polly/latest/dg/setting-up.html)\n",
    "\n",
    "Remember, AWS is a paid service so if you let your machine run for days you will get charged!<BR>\n",
    "![aws-dog](../images/aws-dog.jpeg)\n",
    "\n",
    "*source: maybe Stanford's cs231n via Medium*"
   ]
  },
  {
   "cell_type": "markdown",
   "metadata": {},
   "source": [
    "## Packages we will need for this class\n",
    "\n",
    "- **Clustering**:\n",
    " - Sklearn - [https://scikit-learn.org/stable/](https://scikit-learn.org/stable/)\n",
    " - scipy - [https://www.scipy.org](https://www.scipy.org)\n",
    " - gap_statistic (by Miles Granger) - [https://anaconda.org/milesgranger/gap-statistic/notebook](https://anaconda.org/milesgranger/gap-statistic/notebook)\n",
    "\n",
    "- **Smoothing**:\n",
    " - statsmodels - [https://www.statsmodels.org/](https://www.statsmodels.org/)<br>\n",
    " statsmodels examples: https://www.statsmodels.org/stable/examples/index.html#regression<BR>\n",
    " - scipy\n",
    " - pyGAM - [https://pygam.readthedocs.io/en/latest/](https://pygam.readthedocs.io/en/latest/)\n",
    "\n",
    "- **Bayes**:\n",
    " - pymc3 - [https://docs.pymc.io](https://docs.pymc.io)\n",
    " \n",
    "- **Neural Networks**:\n",
    " - keras - [https://www.tensorflow.org/guide/keras](https://www.tensorflow.org/guide/keras)\n",
    "\n",
    "\n",
    "We will test that these packages load correctly in our environment."
   ]
  },
  {
   "cell_type": "code",
   "execution_count": null,
   "metadata": {},
   "outputs": [],
   "source": [
    "from sklearn import datasets\n",
    "iris = datasets.load_iris()\n",
    "digits = datasets.load_digits()\n",
    "digits.target # you should see [0, 1, 2, ..., 8, 9, 8]"
   ]
  },
  {
   "cell_type": "code",
   "execution_count": null,
   "metadata": {},
   "outputs": [],
   "source": [
    "from scipy import misc\n",
    "import matplotlib.pyplot as plt\n",
    "\n",
    "face = misc.face()\n",
    "plt.imshow(face)\n",
    "plt.show() # you should see a racoon"
   ]
  },
  {
   "cell_type": "code",
   "execution_count": null,
   "metadata": {},
   "outputs": [],
   "source": [
    "import statsmodels.api as sm\n",
    "\n",
    "import statsmodels.formula.api as smf\n",
    "\n",
    "# Load data\n",
    "dat = sm.datasets.get_rdataset(\"Guerry\", \"HistData\").data\n",
    "dat.head()"
   ]
  },
  {
   "cell_type": "code",
   "execution_count": null,
   "metadata": {},
   "outputs": [],
   "source": [
    "from pygam import PoissonGAM, s, te\n",
    "from pygam.datasets import chicago\n",
    "from mpl_toolkits.mplot3d import Axes3D\n",
    "\n",
    "X, y = chicago(return_X_y=True)\n",
    "\n",
    "gam = PoissonGAM(s(0, n_splines=200) + te(3, 1) + s(2)).fit(X, y)"
   ]
  },
  {
   "cell_type": "code",
   "execution_count": null,
   "metadata": {},
   "outputs": [],
   "source": [
    "XX = gam.generate_X_grid(term=1, meshgrid=True)\n",
    "Z = gam.partial_dependence(term=1, X=XX, meshgrid=True)\n",
    "\n",
    "ax = plt.axes(projection='3d')\n",
    "ax.plot_surface(XX[0], XX[1], Z, cmap='viridis')"
   ]
  },
  {
   "cell_type": "code",
   "execution_count": null,
   "metadata": {},
   "outputs": [],
   "source": [
    "import pymc3 as pm\n",
    "print('Running PyMC3 v{}'.format(pm.__version__)) # you should see 'Running on PyMC3 v3.8'"
   ]
  },
  {
   "cell_type": "markdown",
   "metadata": {},
   "source": [
    "## Plotting "
   ]
  },
  {
   "cell_type": "markdown",
   "metadata": {},
   "source": [
    "### `matplotlib` and `seaborn`\n",
    "\n",
    "- `matplotlib` \n",
    "- [seaborn: statistical data visualization](https://seaborn.pydata.org/). `seaborn` works great with `pandas`.  It can also be customized easily.  Here is the basic `seaborn` tutorial: [Seaborn tutorial](https://seaborn.pydata.org/tutorial.html)."
   ]
  },
  {
   "cell_type": "markdown",
   "metadata": {},
   "source": [
    "#### Plotting a function of 2 variables using contours\n",
    "\n",
    "In optimization, our objective function will often be a function of two or more variables. While it's hard to visualize a function of more than 3 variables, it's very informative to plot one of 2 variables. To do this we use contours. First we define the $x1$ and $x2$ variables and then construct their pairs using `meshgrid`. "
   ]
  },
  {
   "cell_type": "code",
   "execution_count": null,
   "metadata": {},
   "outputs": [],
   "source": [
    "import seaborn as sn\n",
    "x1 = np.array([1,2,3,4,5,6,7,8,9])\n",
    "x2 = np.array([1,2,3,4,5,6,7,8,9])"
   ]
  },
  {
   "cell_type": "code",
   "execution_count": null,
   "metadata": {},
   "outputs": [],
   "source": [
    "x = np.linspace(-0.1, 0.1, 50)\n",
    "y = np.linspace(-0.1, 0.1, 50)\n",
    "xx, yy = np.meshgrid(x, y)\n",
    "z = np.sqrt(xx**2+yy**2)\n",
    "plt.contour(x,y,z)"
   ]
  },
  {
   "cell_type": "markdown",
   "metadata": {},
   "source": [
    "## We will be using `tensorflow` and `keras`\n",
    "\n",
    "**[TensorFlow](https://www.tensorflow.org)** is a framework for representing complicated ML algorithms and executing them in any platform, from a phone to a distributed system using GPUs. Developed by Google Brain, TensorFlow is used very broadly today. \n",
    "\n",
    "**[Keras](https://keras.io/)**, is a high-level API used for fast prototyping, advanced research, and production. We will use `tf.keras` which is TensorFlow's implementation of the `keras` API."
   ]
  },
  {
   "cell_type": "markdown",
   "metadata": {},
   "source": [
    "<div class=\"exercise\"><b>Exercise 3: Run the following cells to make sure you have the basic libraries to do deep learning</b></div>"
   ]
  },
  {
   "cell_type": "code",
   "execution_count": null,
   "metadata": {},
   "outputs": [],
   "source": [
    "from __future__ import absolute_import, division, print_function, unicode_literals\n",
    "\n",
    "# TensorFlow and tf.keras\n",
    "import tensorflow as tf\n",
    "from tensorflow.keras import layers\n",
    "from tensorflow.keras import models\n",
    "from tensorflow.keras.layers import Dense\n",
    "from tensorflow.keras.models import Sequential\n",
    "from tensorflow.keras.regularizers import l2\n",
    "\n",
    "tf.keras.backend.clear_session()  # For easy reset of notebook state.\n",
    "\n",
    "print(tf.__version__)  # You should see a >2.0.0 here!\n",
    "print(tf.keras.__version__)"
   ]
  },
  {
   "cell_type": "code",
   "execution_count": null,
   "metadata": {},
   "outputs": [],
   "source": [
    "# Checking if our machine has NVIDIA GPUs. Mine does not..\n",
    "hasGPU = tf.config.experimental_list_devices()\n",
    "print(f'My computer has the following GPUs: {hasGPU}')"
   ]
  },
  {
   "cell_type": "markdown",
   "metadata": {},
   "source": [
    "<div class=\"exercise\"><b>DELIVERABLES</b></div>\n",
    "\n",
    "**Submit this notebook to Canvas with the output produced**. Describe below the environment in which you will be working, e.g. I have installed the two environments needed locally and have tested all the code in this notebook. \n",
    "\n",
    "---------------- your answer here\n",
    "\n",
    "\n",
    "-----------------"
   ]
  }
 ],
 "metadata": {
  "kernelspec": {
   "display_name": "Python 3",
   "language": "python",
   "name": "python3"
  },
  "language_info": {
   "codemirror_mode": {
    "name": "ipython",
    "version": 3
   },
   "file_extension": ".py",
   "mimetype": "text/x-python",
   "name": "python",
   "nbconvert_exporter": "python",
   "pygments_lexer": "ipython3",
   "version": "3.7.4"
  }
 },
 "nbformat": 4,
 "nbformat_minor": 1
}
